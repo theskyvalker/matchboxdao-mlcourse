{
  "nbformat": 4,
  "nbformat_minor": 0,
  "metadata": {
    "colab": {
      "provenance": [],
      "authorship_tag": "ABX9TyNQ+UgR3hq+RXb9y3z/SGIA",
      "include_colab_link": true
    },
    "kernelspec": {
      "name": "python3",
      "display_name": "Python 3"
    },
    "language_info": {
      "name": "python"
    }
  },
  "cells": [
    {
      "cell_type": "markdown",
      "metadata": {
        "id": "view-in-github",
        "colab_type": "text"
      },
      "source": [
        "<a href=\"https://colab.research.google.com/github/theskyvalker/matchboxdao-mlcourse/blob/main/Regression_HW_Week_3.ipynb\" target=\"_parent\"><img src=\"https://colab.research.google.com/assets/colab-badge.svg\" alt=\"Open In Colab\"/></a>"
      ]
    },
    {
      "cell_type": "code",
      "execution_count": 1,
      "metadata": {
        "colab": {
          "base_uri": "https://localhost:8080/"
        },
        "id": "fqJMWIBQpZmV",
        "outputId": "99b52093-6d06-446f-b584-31c480926c2d"
      },
      "outputs": [
        {
          "output_type": "stream",
          "name": "stdout",
          "text": [
            "Archive:  archive (1).zip\n",
            "replace rent_all.csv? [y]es, [n]o, [A]ll, [N]one, [r]ename: y\n",
            "  inflating: rent_all.csv            \n"
          ]
        }
      ],
      "source": [
        "#!unzip \"archive (1).zip\""
      ]
    },
    {
      "cell_type": "markdown",
      "source": [
        "# Singapore Condo Rental Dataset\n",
        "\n",
        "First, import all needed libraries"
      ],
      "metadata": {
        "id": "DhWCMPg0uieN"
      }
    },
    {
      "cell_type": "code",
      "source": [
        "import pandas as pd\n",
        "import numpy as np\n",
        "import matplotlib.pyplot as plt\n",
        "%matplotlib inline \n",
        "import seaborn as sns\n",
        "sns.set(style=\"white\")\n",
        "from datetime import datetime"
      ],
      "metadata": {
        "id": "9qeX_GiauXoy"
      },
      "execution_count": 2,
      "outputs": []
    },
    {
      "cell_type": "markdown",
      "source": [
        "# Exploratory Data Analysis"
      ],
      "metadata": {
        "id": "n1RzKtybuoeu"
      }
    },
    {
      "cell_type": "code",
      "source": [
        "data = pd.read_csv('rent_all.csv')\n",
        "data.head()"
      ],
      "metadata": {
        "colab": {
          "base_uri": "https://localhost:8080/",
          "height": 206
        },
        "id": "ae6i_j6qugEy",
        "outputId": "88b18daf-8e9f-4514-9dc5-38045045cbdb"
      },
      "execution_count": 3,
      "outputs": [
        {
          "output_type": "execute_result",
          "data": {
            "text/plain": [
              "   id                                    building              street  \\\n",
              "0   1                          SKYLINE RESIDENCES  TELOK BLANGAH ROAD   \n",
              "1   2                   REFLECTIONS AT KEPPEL BAY     KEPPEL BAY VIEW   \n",
              "2   3                                 ONE SHENTON         SHENTON WAY   \n",
              "3   4                    THE ROCHESTER RESIDENCES     ROCHESTER DRIVE   \n",
              "4   5  THE RESIDENCES AT W SINGAPORE SENTOSA COVE           OCEAN WAY   \n",
              "\n",
              "   district  room  rent  rentk          area  lower  year  month  \n",
              "0         4     3  7300    7.3  1300 to 1400   1300    22     12  \n",
              "1         4     3  5800    5.8  1500 to 1600   1500    22     12  \n",
              "2         1     2  7300    7.3  1100 to 1200   1100    22     12  \n",
              "3         5     2  6500    6.5  1300 to 1400   1300    22     12  \n",
              "4         4     2  7000    7.0  1200 to 1300   1200    22     12  "
            ],
            "text/html": [
              "\n",
              "  <div id=\"df-6f9a5772-f347-4ff7-8141-a947de1d9807\">\n",
              "    <div class=\"colab-df-container\">\n",
              "      <div>\n",
              "<style scoped>\n",
              "    .dataframe tbody tr th:only-of-type {\n",
              "        vertical-align: middle;\n",
              "    }\n",
              "\n",
              "    .dataframe tbody tr th {\n",
              "        vertical-align: top;\n",
              "    }\n",
              "\n",
              "    .dataframe thead th {\n",
              "        text-align: right;\n",
              "    }\n",
              "</style>\n",
              "<table border=\"1\" class=\"dataframe\">\n",
              "  <thead>\n",
              "    <tr style=\"text-align: right;\">\n",
              "      <th></th>\n",
              "      <th>id</th>\n",
              "      <th>building</th>\n",
              "      <th>street</th>\n",
              "      <th>district</th>\n",
              "      <th>room</th>\n",
              "      <th>rent</th>\n",
              "      <th>rentk</th>\n",
              "      <th>area</th>\n",
              "      <th>lower</th>\n",
              "      <th>year</th>\n",
              "      <th>month</th>\n",
              "    </tr>\n",
              "  </thead>\n",
              "  <tbody>\n",
              "    <tr>\n",
              "      <th>0</th>\n",
              "      <td>1</td>\n",
              "      <td>SKYLINE RESIDENCES</td>\n",
              "      <td>TELOK BLANGAH ROAD</td>\n",
              "      <td>4</td>\n",
              "      <td>3</td>\n",
              "      <td>7300</td>\n",
              "      <td>7.3</td>\n",
              "      <td>1300 to 1400</td>\n",
              "      <td>1300</td>\n",
              "      <td>22</td>\n",
              "      <td>12</td>\n",
              "    </tr>\n",
              "    <tr>\n",
              "      <th>1</th>\n",
              "      <td>2</td>\n",
              "      <td>REFLECTIONS AT KEPPEL BAY</td>\n",
              "      <td>KEPPEL BAY VIEW</td>\n",
              "      <td>4</td>\n",
              "      <td>3</td>\n",
              "      <td>5800</td>\n",
              "      <td>5.8</td>\n",
              "      <td>1500 to 1600</td>\n",
              "      <td>1500</td>\n",
              "      <td>22</td>\n",
              "      <td>12</td>\n",
              "    </tr>\n",
              "    <tr>\n",
              "      <th>2</th>\n",
              "      <td>3</td>\n",
              "      <td>ONE SHENTON</td>\n",
              "      <td>SHENTON WAY</td>\n",
              "      <td>1</td>\n",
              "      <td>2</td>\n",
              "      <td>7300</td>\n",
              "      <td>7.3</td>\n",
              "      <td>1100 to 1200</td>\n",
              "      <td>1100</td>\n",
              "      <td>22</td>\n",
              "      <td>12</td>\n",
              "    </tr>\n",
              "    <tr>\n",
              "      <th>3</th>\n",
              "      <td>4</td>\n",
              "      <td>THE ROCHESTER RESIDENCES</td>\n",
              "      <td>ROCHESTER DRIVE</td>\n",
              "      <td>5</td>\n",
              "      <td>2</td>\n",
              "      <td>6500</td>\n",
              "      <td>6.5</td>\n",
              "      <td>1300 to 1400</td>\n",
              "      <td>1300</td>\n",
              "      <td>22</td>\n",
              "      <td>12</td>\n",
              "    </tr>\n",
              "    <tr>\n",
              "      <th>4</th>\n",
              "      <td>5</td>\n",
              "      <td>THE RESIDENCES AT W SINGAPORE SENTOSA COVE</td>\n",
              "      <td>OCEAN WAY</td>\n",
              "      <td>4</td>\n",
              "      <td>2</td>\n",
              "      <td>7000</td>\n",
              "      <td>7.0</td>\n",
              "      <td>1200 to 1300</td>\n",
              "      <td>1200</td>\n",
              "      <td>22</td>\n",
              "      <td>12</td>\n",
              "    </tr>\n",
              "  </tbody>\n",
              "</table>\n",
              "</div>\n",
              "      <button class=\"colab-df-convert\" onclick=\"convertToInteractive('df-6f9a5772-f347-4ff7-8141-a947de1d9807')\"\n",
              "              title=\"Convert this dataframe to an interactive table.\"\n",
              "              style=\"display:none;\">\n",
              "        \n",
              "  <svg xmlns=\"http://www.w3.org/2000/svg\" height=\"24px\"viewBox=\"0 0 24 24\"\n",
              "       width=\"24px\">\n",
              "    <path d=\"M0 0h24v24H0V0z\" fill=\"none\"/>\n",
              "    <path d=\"M18.56 5.44l.94 2.06.94-2.06 2.06-.94-2.06-.94-.94-2.06-.94 2.06-2.06.94zm-11 1L8.5 8.5l.94-2.06 2.06-.94-2.06-.94L8.5 2.5l-.94 2.06-2.06.94zm10 10l.94 2.06.94-2.06 2.06-.94-2.06-.94-.94-2.06-.94 2.06-2.06.94z\"/><path d=\"M17.41 7.96l-1.37-1.37c-.4-.4-.92-.59-1.43-.59-.52 0-1.04.2-1.43.59L10.3 9.45l-7.72 7.72c-.78.78-.78 2.05 0 2.83L4 21.41c.39.39.9.59 1.41.59.51 0 1.02-.2 1.41-.59l7.78-7.78 2.81-2.81c.8-.78.8-2.07 0-2.86zM5.41 20L4 18.59l7.72-7.72 1.47 1.35L5.41 20z\"/>\n",
              "  </svg>\n",
              "      </button>\n",
              "      \n",
              "  <style>\n",
              "    .colab-df-container {\n",
              "      display:flex;\n",
              "      flex-wrap:wrap;\n",
              "      gap: 12px;\n",
              "    }\n",
              "\n",
              "    .colab-df-convert {\n",
              "      background-color: #E8F0FE;\n",
              "      border: none;\n",
              "      border-radius: 50%;\n",
              "      cursor: pointer;\n",
              "      display: none;\n",
              "      fill: #1967D2;\n",
              "      height: 32px;\n",
              "      padding: 0 0 0 0;\n",
              "      width: 32px;\n",
              "    }\n",
              "\n",
              "    .colab-df-convert:hover {\n",
              "      background-color: #E2EBFA;\n",
              "      box-shadow: 0px 1px 2px rgba(60, 64, 67, 0.3), 0px 1px 3px 1px rgba(60, 64, 67, 0.15);\n",
              "      fill: #174EA6;\n",
              "    }\n",
              "\n",
              "    [theme=dark] .colab-df-convert {\n",
              "      background-color: #3B4455;\n",
              "      fill: #D2E3FC;\n",
              "    }\n",
              "\n",
              "    [theme=dark] .colab-df-convert:hover {\n",
              "      background-color: #434B5C;\n",
              "      box-shadow: 0px 1px 3px 1px rgba(0, 0, 0, 0.15);\n",
              "      filter: drop-shadow(0px 1px 2px rgba(0, 0, 0, 0.3));\n",
              "      fill: #FFFFFF;\n",
              "    }\n",
              "  </style>\n",
              "\n",
              "      <script>\n",
              "        const buttonEl =\n",
              "          document.querySelector('#df-6f9a5772-f347-4ff7-8141-a947de1d9807 button.colab-df-convert');\n",
              "        buttonEl.style.display =\n",
              "          google.colab.kernel.accessAllowed ? 'block' : 'none';\n",
              "\n",
              "        async function convertToInteractive(key) {\n",
              "          const element = document.querySelector('#df-6f9a5772-f347-4ff7-8141-a947de1d9807');\n",
              "          const dataTable =\n",
              "            await google.colab.kernel.invokeFunction('convertToInteractive',\n",
              "                                                     [key], {});\n",
              "          if (!dataTable) return;\n",
              "\n",
              "          const docLinkHtml = 'Like what you see? Visit the ' +\n",
              "            '<a target=\"_blank\" href=https://colab.research.google.com/notebooks/data_table.ipynb>data table notebook</a>'\n",
              "            + ' to learn more about interactive tables.';\n",
              "          element.innerHTML = '';\n",
              "          dataTable['output_type'] = 'display_data';\n",
              "          await google.colab.output.renderOutput(dataTable, element);\n",
              "          const docLink = document.createElement('div');\n",
              "          docLink.innerHTML = docLinkHtml;\n",
              "          element.appendChild(docLink);\n",
              "        }\n",
              "      </script>\n",
              "    </div>\n",
              "  </div>\n",
              "  "
            ]
          },
          "metadata": {},
          "execution_count": 3
        }
      ]
    },
    {
      "cell_type": "code",
      "source": [
        "# We can get a quick overview of all the numeric columns of our data with this\n",
        "\n",
        "data.describe()"
      ],
      "metadata": {
        "colab": {
          "base_uri": "https://localhost:8080/",
          "height": 300
        },
        "id": "FtaTiZY13bKl",
        "outputId": "a86f28b2-a8ac-48fe-dc24-665544ca8870"
      },
      "execution_count": 4,
      "outputs": [
        {
          "output_type": "execute_result",
          "data": {
            "text/plain": [
              "                  id       district           room           rent  \\\n",
              "count  432191.000000  432191.000000  432191.000000  432191.000000   \n",
              "mean   216096.000000      13.005363       6.376861    3764.759535   \n",
              "std    124762.939433       6.470458      13.410442    2324.058875   \n",
              "min         1.000000       1.000000       0.000000     307.000000   \n",
              "25%    108048.500000       9.000000       2.000000    2450.000000   \n",
              "50%    216096.000000      13.000000       2.000000    3100.000000   \n",
              "75%    324143.500000      18.000000       3.000000    4250.000000   \n",
              "max    432191.000000      28.000000      50.000000  170000.000000   \n",
              "\n",
              "               rentk          lower           year          month  \n",
              "count  432191.000000  432191.000000  432191.000000  432191.000000  \n",
              "mean        3.764760    1030.388648      20.029779       6.576759  \n",
              "std         2.324059     539.619998       1.393993       3.374170  \n",
              "min         0.307000     100.000000      18.000000       1.000000  \n",
              "25%         2.450000     600.000000      19.000000       4.000000  \n",
              "50%         3.100000     900.000000      20.000000       7.000000  \n",
              "75%         4.250000    1300.000000      21.000000       9.000000  \n",
              "max       170.000000    3000.000000      22.000000      12.000000  "
            ],
            "text/html": [
              "\n",
              "  <div id=\"df-934a33dc-e66e-461a-91c1-31afbbc0c6bc\">\n",
              "    <div class=\"colab-df-container\">\n",
              "      <div>\n",
              "<style scoped>\n",
              "    .dataframe tbody tr th:only-of-type {\n",
              "        vertical-align: middle;\n",
              "    }\n",
              "\n",
              "    .dataframe tbody tr th {\n",
              "        vertical-align: top;\n",
              "    }\n",
              "\n",
              "    .dataframe thead th {\n",
              "        text-align: right;\n",
              "    }\n",
              "</style>\n",
              "<table border=\"1\" class=\"dataframe\">\n",
              "  <thead>\n",
              "    <tr style=\"text-align: right;\">\n",
              "      <th></th>\n",
              "      <th>id</th>\n",
              "      <th>district</th>\n",
              "      <th>room</th>\n",
              "      <th>rent</th>\n",
              "      <th>rentk</th>\n",
              "      <th>lower</th>\n",
              "      <th>year</th>\n",
              "      <th>month</th>\n",
              "    </tr>\n",
              "  </thead>\n",
              "  <tbody>\n",
              "    <tr>\n",
              "      <th>count</th>\n",
              "      <td>432191.000000</td>\n",
              "      <td>432191.000000</td>\n",
              "      <td>432191.000000</td>\n",
              "      <td>432191.000000</td>\n",
              "      <td>432191.000000</td>\n",
              "      <td>432191.000000</td>\n",
              "      <td>432191.000000</td>\n",
              "      <td>432191.000000</td>\n",
              "    </tr>\n",
              "    <tr>\n",
              "      <th>mean</th>\n",
              "      <td>216096.000000</td>\n",
              "      <td>13.005363</td>\n",
              "      <td>6.376861</td>\n",
              "      <td>3764.759535</td>\n",
              "      <td>3.764760</td>\n",
              "      <td>1030.388648</td>\n",
              "      <td>20.029779</td>\n",
              "      <td>6.576759</td>\n",
              "    </tr>\n",
              "    <tr>\n",
              "      <th>std</th>\n",
              "      <td>124762.939433</td>\n",
              "      <td>6.470458</td>\n",
              "      <td>13.410442</td>\n",
              "      <td>2324.058875</td>\n",
              "      <td>2.324059</td>\n",
              "      <td>539.619998</td>\n",
              "      <td>1.393993</td>\n",
              "      <td>3.374170</td>\n",
              "    </tr>\n",
              "    <tr>\n",
              "      <th>min</th>\n",
              "      <td>1.000000</td>\n",
              "      <td>1.000000</td>\n",
              "      <td>0.000000</td>\n",
              "      <td>307.000000</td>\n",
              "      <td>0.307000</td>\n",
              "      <td>100.000000</td>\n",
              "      <td>18.000000</td>\n",
              "      <td>1.000000</td>\n",
              "    </tr>\n",
              "    <tr>\n",
              "      <th>25%</th>\n",
              "      <td>108048.500000</td>\n",
              "      <td>9.000000</td>\n",
              "      <td>2.000000</td>\n",
              "      <td>2450.000000</td>\n",
              "      <td>2.450000</td>\n",
              "      <td>600.000000</td>\n",
              "      <td>19.000000</td>\n",
              "      <td>4.000000</td>\n",
              "    </tr>\n",
              "    <tr>\n",
              "      <th>50%</th>\n",
              "      <td>216096.000000</td>\n",
              "      <td>13.000000</td>\n",
              "      <td>2.000000</td>\n",
              "      <td>3100.000000</td>\n",
              "      <td>3.100000</td>\n",
              "      <td>900.000000</td>\n",
              "      <td>20.000000</td>\n",
              "      <td>7.000000</td>\n",
              "    </tr>\n",
              "    <tr>\n",
              "      <th>75%</th>\n",
              "      <td>324143.500000</td>\n",
              "      <td>18.000000</td>\n",
              "      <td>3.000000</td>\n",
              "      <td>4250.000000</td>\n",
              "      <td>4.250000</td>\n",
              "      <td>1300.000000</td>\n",
              "      <td>21.000000</td>\n",
              "      <td>9.000000</td>\n",
              "    </tr>\n",
              "    <tr>\n",
              "      <th>max</th>\n",
              "      <td>432191.000000</td>\n",
              "      <td>28.000000</td>\n",
              "      <td>50.000000</td>\n",
              "      <td>170000.000000</td>\n",
              "      <td>170.000000</td>\n",
              "      <td>3000.000000</td>\n",
              "      <td>22.000000</td>\n",
              "      <td>12.000000</td>\n",
              "    </tr>\n",
              "  </tbody>\n",
              "</table>\n",
              "</div>\n",
              "      <button class=\"colab-df-convert\" onclick=\"convertToInteractive('df-934a33dc-e66e-461a-91c1-31afbbc0c6bc')\"\n",
              "              title=\"Convert this dataframe to an interactive table.\"\n",
              "              style=\"display:none;\">\n",
              "        \n",
              "  <svg xmlns=\"http://www.w3.org/2000/svg\" height=\"24px\"viewBox=\"0 0 24 24\"\n",
              "       width=\"24px\">\n",
              "    <path d=\"M0 0h24v24H0V0z\" fill=\"none\"/>\n",
              "    <path d=\"M18.56 5.44l.94 2.06.94-2.06 2.06-.94-2.06-.94-.94-2.06-.94 2.06-2.06.94zm-11 1L8.5 8.5l.94-2.06 2.06-.94-2.06-.94L8.5 2.5l-.94 2.06-2.06.94zm10 10l.94 2.06.94-2.06 2.06-.94-2.06-.94-.94-2.06-.94 2.06-2.06.94z\"/><path d=\"M17.41 7.96l-1.37-1.37c-.4-.4-.92-.59-1.43-.59-.52 0-1.04.2-1.43.59L10.3 9.45l-7.72 7.72c-.78.78-.78 2.05 0 2.83L4 21.41c.39.39.9.59 1.41.59.51 0 1.02-.2 1.41-.59l7.78-7.78 2.81-2.81c.8-.78.8-2.07 0-2.86zM5.41 20L4 18.59l7.72-7.72 1.47 1.35L5.41 20z\"/>\n",
              "  </svg>\n",
              "      </button>\n",
              "      \n",
              "  <style>\n",
              "    .colab-df-container {\n",
              "      display:flex;\n",
              "      flex-wrap:wrap;\n",
              "      gap: 12px;\n",
              "    }\n",
              "\n",
              "    .colab-df-convert {\n",
              "      background-color: #E8F0FE;\n",
              "      border: none;\n",
              "      border-radius: 50%;\n",
              "      cursor: pointer;\n",
              "      display: none;\n",
              "      fill: #1967D2;\n",
              "      height: 32px;\n",
              "      padding: 0 0 0 0;\n",
              "      width: 32px;\n",
              "    }\n",
              "\n",
              "    .colab-df-convert:hover {\n",
              "      background-color: #E2EBFA;\n",
              "      box-shadow: 0px 1px 2px rgba(60, 64, 67, 0.3), 0px 1px 3px 1px rgba(60, 64, 67, 0.15);\n",
              "      fill: #174EA6;\n",
              "    }\n",
              "\n",
              "    [theme=dark] .colab-df-convert {\n",
              "      background-color: #3B4455;\n",
              "      fill: #D2E3FC;\n",
              "    }\n",
              "\n",
              "    [theme=dark] .colab-df-convert:hover {\n",
              "      background-color: #434B5C;\n",
              "      box-shadow: 0px 1px 3px 1px rgba(0, 0, 0, 0.15);\n",
              "      filter: drop-shadow(0px 1px 2px rgba(0, 0, 0, 0.3));\n",
              "      fill: #FFFFFF;\n",
              "    }\n",
              "  </style>\n",
              "\n",
              "      <script>\n",
              "        const buttonEl =\n",
              "          document.querySelector('#df-934a33dc-e66e-461a-91c1-31afbbc0c6bc button.colab-df-convert');\n",
              "        buttonEl.style.display =\n",
              "          google.colab.kernel.accessAllowed ? 'block' : 'none';\n",
              "\n",
              "        async function convertToInteractive(key) {\n",
              "          const element = document.querySelector('#df-934a33dc-e66e-461a-91c1-31afbbc0c6bc');\n",
              "          const dataTable =\n",
              "            await google.colab.kernel.invokeFunction('convertToInteractive',\n",
              "                                                     [key], {});\n",
              "          if (!dataTable) return;\n",
              "\n",
              "          const docLinkHtml = 'Like what you see? Visit the ' +\n",
              "            '<a target=\"_blank\" href=https://colab.research.google.com/notebooks/data_table.ipynb>data table notebook</a>'\n",
              "            + ' to learn more about interactive tables.';\n",
              "          element.innerHTML = '';\n",
              "          dataTable['output_type'] = 'display_data';\n",
              "          await google.colab.output.renderOutput(dataTable, element);\n",
              "          const docLink = document.createElement('div');\n",
              "          docLink.innerHTML = docLinkHtml;\n",
              "          element.appendChild(docLink);\n",
              "        }\n",
              "      </script>\n",
              "    </div>\n",
              "  </div>\n",
              "  "
            ]
          },
          "metadata": {},
          "execution_count": 4
        }
      ]
    },
    {
      "cell_type": "code",
      "source": [
        "# group rent data by year and district to check the pattern year on year\n",
        "# we expect this to be an ascending pattern overall\n",
        "\n",
        "grouped_data = data.groupby(['year', 'district']).mean()['rent'].unstack()\n",
        "\n",
        "# plot the data\n",
        "grouped_data.plot(kind='line', figsize=(12, 8))\n",
        "plt.xlabel('Year')\n",
        "plt.ylabel('Average Rent')\n",
        "plt.title('Average Rent by District by Year')\n",
        "plt.legend(loc='best')\n",
        "plt.xticks(range(18, 23))\n",
        "\n",
        "plt.show()"
      ],
      "metadata": {
        "colab": {
          "base_uri": "https://localhost:8080/",
          "height": 518
        },
        "id": "myEXPNmrA9BH",
        "outputId": "3d8cdd75-792a-4e93-e369-68a71a3a8486"
      },
      "execution_count": 5,
      "outputs": [
        {
          "output_type": "display_data",
          "data": {
            "text/plain": [
              "<Figure size 864x576 with 1 Axes>"
            ],
            "image/png": "[encoded data removed]"
          },
          "metadata": {}
        }
      ]
    },
    {
      "cell_type": "code",
      "source": [
        "# Compute the correlation matrix using the current features\n",
        "corr = data.corr()\n",
        "\n",
        "# Draw the correlation matrix\n",
        "sns.heatmap(corr, square=True, linewidths=.4)\n",
        "\n",
        "plt.title(\"Rent Correlation\")\n",
        "plt.show()"
      ],
      "metadata": {
        "colab": {
          "base_uri": "https://localhost:8080/",
          "height": 312
        },
        "id": "-B7nRxJiCDhz",
        "outputId": "069ecd6a-9c3e-4f01-e4cf-5f0bf45a5d53"
      },
      "execution_count": 6,
      "outputs": [
        {
          "output_type": "display_data",
          "data": {
            "text/plain": [
              "<Figure size 432x288 with 2 Axes>"
            ],
            "image/png": "[encoded data removed]"
          },
          "metadata": {}
        }
      ]
    },
    {
      "cell_type": "markdown",
      "source": [
        "# Model Version 1: Baseline\n",
        "\n",
        "The easiest model to do would be to take just the numeric features from the dataset which includes the disctrict as a measure of the locality data"
      ],
      "metadata": {
        "id": "fY1puRqi3Eyq"
      }
    },
    {
      "cell_type": "code",
      "source": [
        "# check how many have room=50 (This represents missing or N/A room data)\n",
        "\n",
        "print(\"No. of data points with N/A room data {}\".format(\n",
        "    len(data[data['room'] == 50])))\n",
        "\n",
        "# what is the % of these data points from our total data\n",
        "\n",
        "print(\"% of datapoints with N/A room data {}\".format(\n",
        "    len(data[data['room'] == 50])/len(data) * 100))"
      ],
      "metadata": {
        "colab": {
          "base_uri": "https://localhost:8080/"
        },
        "id": "MD3qZZ91vXba",
        "outputId": "4501a875-8451-4ac2-a20f-5b1fe5ef37ad"
      },
      "execution_count": 7,
      "outputs": [
        {
          "output_type": "stream",
          "name": "stdout",
          "text": [
            "No. of data points with N/A room data 37171\n",
            "% of datapoints with N/A room data 8.600595570014184\n"
          ]
        }
      ]
    },
    {
      "cell_type": "code",
      "source": [
        "# We can remove these data points for now since this is less than 10% of our\n",
        "# data\n",
        "\n",
        "data = data.drop(data[data['room'] == 50].index)\n",
        "print(\"Data points left after removing room=N/A data: {}\".format(len(data)))"
      ],
      "metadata": {
        "colab": {
          "base_uri": "https://localhost:8080/"
        },
        "id": "XLlBFWaXvZBA",
        "outputId": "03627248-751e-4242-c670-976627325e8e"
      },
      "execution_count": 8,
      "outputs": [
        {
          "output_type": "stream",
          "name": "stdout",
          "text": [
            "Data points left after removing room=N/A data: 395020\n"
          ]
        }
      ]
    },
    {
      "cell_type": "code",
      "source": [
        "# separate the data into train and test sets - we use years 2018-2021 as train\n",
        "# and try to predict the rentals for 2022\n",
        "train_data = data.loc[data['year'] != 22]\n",
        "test_data = data.loc[data['year'] == 22]\n",
        "\n",
        "# print the total number of data points in the train and test sets\n",
        "print(f\"Number of data points in train set: {len(train_data)}\")\n",
        "print(f\"Number of data points in test set: {len(test_data)}\")"
      ],
      "metadata": {
        "colab": {
          "base_uri": "https://localhost:8080/"
        },
        "id": "_Vph9om8Et56",
        "outputId": "b2f7a514-4b62-4a1e-ae8c-f615b1fa1390"
      },
      "execution_count": 9,
      "outputs": [
        {
          "output_type": "stream",
          "name": "stdout",
          "text": [
            "Number of data points in train set: 318522\n",
            "Number of data points in test set: 76498\n"
          ]
        }
      ]
    },
    {
      "cell_type": "code",
      "source": [
        "from sklearn.linear_model import LinearRegression\n",
        "from sklearn.metrics import mean_absolute_error, r2_score\n",
        "\n",
        "# extract the features and target variables\n",
        "X_train = train_data[['year', 'district', 'room', 'lower']]\n",
        "y_train = train_data['rent']\n",
        "X_test = test_data[['year', 'district', 'room', 'lower']]\n",
        "y_test = test_data['rent']\n",
        "\n",
        "# create a linear regression model and fit it to the training data\n",
        "model = LinearRegression()\n",
        "model.fit(X_train, y_train)\n",
        "\n",
        "# predict the target variable on the test data\n",
        "y_pred = model.predict(X_test)\n",
        "\n",
        "# evaluate the model on the test data and print the metrics\n",
        "mae = mean_absolute_error(y_test, y_pred)\n",
        "r2 = r2_score(y_test, y_pred)\n",
        "\n",
        "print(f\"MAE: {mae:.3f}\")\n",
        "print(f\"R2-score: {r2:.3f}\")"
      ],
      "metadata": {
        "colab": {
          "base_uri": "https://localhost:8080/"
        },
        "id": "BxAVpSP5FxdK",
        "outputId": "4fc0e232-fbb0-4277-824c-c53490eb6ff4"
      },
      "execution_count": 10,
      "outputs": [
        {
          "output_type": "stream",
          "name": "stdout",
          "text": [
            "MAE: 1171.286\n",
            "R2-score: 0.475\n"
          ]
        }
      ]
    },
    {
      "cell_type": "markdown",
      "source": [
        "# Results of the Baseline Model\n",
        "\n",
        "Our baseline model has an MAE of 1171 meaning that any prediction made by the model can be off by +- 1171 and we can try to do better\n",
        "\n",
        "# Next Steps\n",
        "\n",
        "Let's try to do some feature engineering to try and improve the result"
      ],
      "metadata": {
        "id": "1AP0gWErHjPW"
      }
    },
    {
      "cell_type": "code",
      "source": [
        "# psf -> per square feet -> rent normalized by the area of the place\n",
        "data['psf'] = data['rent'] / data['lower']\n",
        "\n",
        "# district_psf_cummean -> \n",
        "district_psf_cummean = data.groupby(['district', 'year'])['psf'].mean().groupby('district').cumsum().reset_index()\n",
        "district_psf_cummean.rename(columns={'psf': 'district_mean_psf'}, inplace=True)\n",
        "data = data.merge(district_psf_cummean, on=['district', 'year'])"
      ],
      "metadata": {
        "id": "JhUvCwjUGUY6"
      },
      "execution_count": 11,
      "outputs": []
    },
    {
      "cell_type": "code",
      "source": [
        "data.describe()"
      ],
      "metadata": {
        "colab": {
          "base_uri": "https://localhost:8080/",
          "height": 300
        },
        "id": "1Cpz2FZpLWwt",
        "outputId": "fa97737e-4231-47f0-b365-f1b610783dc5"
      },
      "execution_count": 12,
      "outputs": [
        {
          "output_type": "execute_result",
          "data": {
            "text/plain": [
              "                  id       district           room           rent  \\\n",
              "count  395020.000000  395020.000000  395020.000000  395020.000000   \n",
              "mean   215617.820252      12.990342       2.271966    3804.981373   \n",
              "std    125278.213608       6.489465       0.918521    2324.811249   \n",
              "min         1.000000       1.000000       0.000000     307.000000   \n",
              "25%    106870.750000       9.000000       2.000000    2500.000000   \n",
              "50%    213415.500000      13.000000       2.000000    3150.000000   \n",
              "75%    325556.250000      18.000000       3.000000    4300.000000   \n",
              "max    432191.000000      28.000000       8.000000  170000.000000   \n",
              "\n",
              "               rentk          lower           year          month  \\\n",
              "count  395020.000000  395020.000000  395020.000000  395020.000000   \n",
              "mean        3.804981    1027.826692      20.025247       6.581525   \n",
              "std         2.324811     532.637635       1.391645       3.376423   \n",
              "min         0.307000     100.000000      18.000000       1.000000   \n",
              "25%         2.500000     600.000000      19.000000       4.000000   \n",
              "50%         3.150000     900.000000      20.000000       7.000000   \n",
              "75%         4.300000    1200.000000      21.000000       9.000000   \n",
              "max       170.000000    3000.000000      22.000000      12.000000   \n",
              "\n",
              "                 psf  district_mean_psf  \n",
              "count  395020.000000      395020.000000  \n",
              "mean        3.965569          11.585343  \n",
              "std         1.437632           6.121037  \n",
              "min         0.500000           2.335456  \n",
              "25%         2.900000           6.602611  \n",
              "50%         3.714286          11.023135  \n",
              "75%         4.750000          15.868243  \n",
              "max        56.666667          42.574763  "
            ],
            "text/html": [
              "\n",
              "  <div id=\"df-78d95023-8378-4529-b9b8-b55869ecc0c1\">\n",
              "    <div class=\"colab-df-container\">\n",
              "      <div>\n",
              "<style scoped>\n",
              "    .dataframe tbody tr th:only-of-type {\n",
              "        vertical-align: middle;\n",
              "    }\n",
              "\n",
              "    .dataframe tbody tr th {\n",
              "        vertical-align: top;\n",
              "    }\n",
              "\n",
              "    .dataframe thead th {\n",
              "        text-align: right;\n",
              "    }\n",
              "</style>\n",
              "<table border=\"1\" class=\"dataframe\">\n",
              "  <thead>\n",
              "    <tr style=\"text-align: right;\">\n",
              "      <th></th>\n",
              "      <th>id</th>\n",
              "      <th>district</th>\n",
              "      <th>room</th>\n",
              "      <th>rent</th>\n",
              "      <th>rentk</th>\n",
              "      <th>lower</th>\n",
              "      <th>year</th>\n",
              "      <th>month</th>\n",
              "      <th>psf</th>\n",
              "      <th>district_mean_psf</th>\n",
              "    </tr>\n",
              "  </thead>\n",
              "  <tbody>\n",
              "    <tr>\n",
              "      <th>count</th>\n",
              "      <td>395020.000000</td>\n",
              "      <td>395020.000000</td>\n",
              "      <td>395020.000000</td>\n",
              "      <td>395020.000000</td>\n",
              "      <td>395020.000000</td>\n",
              "      <td>395020.000000</td>\n",
              "      <td>395020.000000</td>\n",
              "      <td>395020.000000</td>\n",
              "      <td>395020.000000</td>\n",
              "      <td>395020.000000</td>\n",
              "    </tr>\n",
              "    <tr>\n",
              "      <th>mean</th>\n",
              "      <td>215617.820252</td>\n",
              "      <td>12.990342</td>\n",
              "      <td>2.271966</td>\n",
              "      <td>3804.981373</td>\n",
              "      <td>3.804981</td>\n",
              "      <td>1027.826692</td>\n",
              "      <td>20.025247</td>\n",
              "      <td>6.581525</td>\n",
              "      <td>3.965569</td>\n",
              "      <td>11.585343</td>\n",
              "    </tr>\n",
              "    <tr>\n",
              "      <th>std</th>\n",
              "      <td>125278.213608</td>\n",
              "      <td>6.489465</td>\n",
              "      <td>0.918521</td>\n",
              "      <td>2324.811249</td>\n",
              "      <td>2.324811</td>\n",
              "      <td>532.637635</td>\n",
              "      <td>1.391645</td>\n",
              "      <td>3.376423</td>\n",
              "      <td>1.437632</td>\n",
              "      <td>6.121037</td>\n",
              "    </tr>\n",
              "    <tr>\n",
              "      <th>min</th>\n",
              "      <td>1.000000</td>\n",
              "      <td>1.000000</td>\n",
              "      <td>0.000000</td>\n",
              "      <td>307.000000</td>\n",
              "      <td>0.307000</td>\n",
              "      <td>100.000000</td>\n",
              "      <td>18.000000</td>\n",
              "      <td>1.000000</td>\n",
              "      <td>0.500000</td>\n",
              "      <td>2.335456</td>\n",
              "    </tr>\n",
              "    <tr>\n",
              "      <th>25%</th>\n",
              "      <td>106870.750000</td>\n",
              "      <td>9.000000</td>\n",
              "      <td>2.000000</td>\n",
              "      <td>2500.000000</td>\n",
              "      <td>2.500000</td>\n",
              "      <td>600.000000</td>\n",
              "      <td>19.000000</td>\n",
              "      <td>4.000000</td>\n",
              "      <td>2.900000</td>\n",
              "      <td>6.602611</td>\n",
              "    </tr>\n",
              "    <tr>\n",
              "      <th>50%</th>\n",
              "      <td>213415.500000</td>\n",
              "      <td>13.000000</td>\n",
              "      <td>2.000000</td>\n",
              "      <td>3150.000000</td>\n",
              "      <td>3.150000</td>\n",
              "      <td>900.000000</td>\n",
              "      <td>20.000000</td>\n",
              "      <td>7.000000</td>\n",
              "      <td>3.714286</td>\n",
              "      <td>11.023135</td>\n",
              "    </tr>\n",
              "    <tr>\n",
              "      <th>75%</th>\n",
              "      <td>325556.250000</td>\n",
              "      <td>18.000000</td>\n",
              "      <td>3.000000</td>\n",
              "      <td>4300.000000</td>\n",
              "      <td>4.300000</td>\n",
              "      <td>1200.000000</td>\n",
              "      <td>21.000000</td>\n",
              "      <td>9.000000</td>\n",
              "      <td>4.750000</td>\n",
              "      <td>15.868243</td>\n",
              "    </tr>\n",
              "    <tr>\n",
              "      <th>max</th>\n",
              "      <td>432191.000000</td>\n",
              "      <td>28.000000</td>\n",
              "      <td>8.000000</td>\n",
              "      <td>170000.000000</td>\n",
              "      <td>170.000000</td>\n",
              "      <td>3000.000000</td>\n",
              "      <td>22.000000</td>\n",
              "      <td>12.000000</td>\n",
              "      <td>56.666667</td>\n",
              "      <td>42.574763</td>\n",
              "    </tr>\n",
              "  </tbody>\n",
              "</table>\n",
              "</div>\n",
              "      <button class=\"colab-df-convert\" onclick=\"convertToInteractive('df-78d95023-8378-4529-b9b8-b55869ecc0c1')\"\n",
              "              title=\"Convert this dataframe to an interactive table.\"\n",
              "              style=\"display:none;\">\n",
              "        \n",
              "  <svg xmlns=\"http://www.w3.org/2000/svg\" height=\"24px\"viewBox=\"0 0 24 24\"\n",
              "       width=\"24px\">\n",
              "    <path d=\"M0 0h24v24H0V0z\" fill=\"none\"/>\n",
              "    <path d=\"M18.56 5.44l.94 2.06.94-2.06 2.06-.94-2.06-.94-.94-2.06-.94 2.06-2.06.94zm-11 1L8.5 8.5l.94-2.06 2.06-.94-2.06-.94L8.5 2.5l-.94 2.06-2.06.94zm10 10l.94 2.06.94-2.06 2.06-.94-2.06-.94-.94-2.06-.94 2.06-2.06.94z\"/><path d=\"M17.41 7.96l-1.37-1.37c-.4-.4-.92-.59-1.43-.59-.52 0-1.04.2-1.43.59L10.3 9.45l-7.72 7.72c-.78.78-.78 2.05 0 2.83L4 21.41c.39.39.9.59 1.41.59.51 0 1.02-.2 1.41-.59l7.78-7.78 2.81-2.81c.8-.78.8-2.07 0-2.86zM5.41 20L4 18.59l7.72-7.72 1.47 1.35L5.41 20z\"/>\n",
              "  </svg>\n",
              "      </button>\n",
              "      \n",
              "  <style>\n",
              "    .colab-df-container {\n",
              "      display:flex;\n",
              "      flex-wrap:wrap;\n",
              "      gap: 12px;\n",
              "    }\n",
              "\n",
              "    .colab-df-convert {\n",
              "      background-color: #E8F0FE;\n",
              "      border: none;\n",
              "      border-radius: 50%;\n",
              "      cursor: pointer;\n",
              "      display: none;\n",
              "      fill: #1967D2;\n",
              "      height: 32px;\n",
              "      padding: 0 0 0 0;\n",
              "      width: 32px;\n",
              "    }\n",
              "\n",
              "    .colab-df-convert:hover {\n",
              "      background-color: #E2EBFA;\n",
              "      box-shadow: 0px 1px 2px rgba(60, 64, 67, 0.3), 0px 1px 3px 1px rgba(60, 64, 67, 0.15);\n",
              "      fill: #174EA6;\n",
              "    }\n",
              "\n",
              "    [theme=dark] .colab-df-convert {\n",
              "      background-color: #3B4455;\n",
              "      fill: #D2E3FC;\n",
              "    }\n",
              "\n",
              "    [theme=dark] .colab-df-convert:hover {\n",
              "      background-color: #434B5C;\n",
              "      box-shadow: 0px 1px 3px 1px rgba(0, 0, 0, 0.15);\n",
              "      filter: drop-shadow(0px 1px 2px rgba(0, 0, 0, 0.3));\n",
              "      fill: #FFFFFF;\n",
              "    }\n",
              "  </style>\n",
              "\n",
              "      <script>\n",
              "        const buttonEl =\n",
              "          document.querySelector('#df-78d95023-8378-4529-b9b8-b55869ecc0c1 button.colab-df-convert');\n",
              "        buttonEl.style.display =\n",
              "          google.colab.kernel.accessAllowed ? 'block' : 'none';\n",
              "\n",
              "        async function convertToInteractive(key) {\n",
              "          const element = document.querySelector('#df-78d95023-8378-4529-b9b8-b55869ecc0c1');\n",
              "          const dataTable =\n",
              "            await google.colab.kernel.invokeFunction('convertToInteractive',\n",
              "                                                     [key], {});\n",
              "          if (!dataTable) return;\n",
              "\n",
              "          const docLinkHtml = 'Like what you see? Visit the ' +\n",
              "            '<a target=\"_blank\" href=https://colab.research.google.com/notebooks/data_table.ipynb>data table notebook</a>'\n",
              "            + ' to learn more about interactive tables.';\n",
              "          element.innerHTML = '';\n",
              "          dataTable['output_type'] = 'display_data';\n",
              "          await google.colab.output.renderOutput(dataTable, element);\n",
              "          const docLink = document.createElement('div');\n",
              "          docLink.innerHTML = docLinkHtml;\n",
              "          element.appendChild(docLink);\n",
              "        }\n",
              "      </script>\n",
              "    </div>\n",
              "  </div>\n",
              "  "
            ]
          },
          "metadata": {},
          "execution_count": 12
        }
      ]
    },
    {
      "cell_type": "code",
      "source": [
        "# we do a new split with the new data\n",
        "train_data = data.loc[data['year'] != 22]\n",
        "test_data = data.loc[data['year'] == 22]\n",
        "\n",
        "# extract the features and target variables\n",
        "X_train = train_data[['year', 'district_mean_psf', 'room', 'lower']]\n",
        "y_train = train_data['rent']\n",
        "X_test = test_data[['year', 'district_mean_psf', 'room', 'lower']]\n",
        "y_test = test_data['rent']\n",
        "\n",
        "# create a linear regression model and fit it to the training data\n",
        "model = LinearRegression()\n",
        "model.fit(X_train, y_train)\n",
        "\n",
        "# predict the target variable on the test data\n",
        "y_pred = model.predict(X_test)\n",
        "\n",
        "# evaluate the model on the test data and print the metrics\n",
        "mae = mean_absolute_error(y_test, y_pred)\n",
        "r2 = r2_score(y_test, y_pred)\n",
        "\n",
        "print(f\"MAE: {mae:.3f}\")\n",
        "print(f\"R2-score: {r2:.3f}\")"
      ],
      "metadata": {
        "colab": {
          "base_uri": "https://localhost:8080/"
        },
        "id": "xVOVr92xLsfT",
        "outputId": "88f81576-e433-4356-c2b0-77cee753f482"
      },
      "execution_count": 13,
      "outputs": [
        {
          "output_type": "stream",
          "name": "stdout",
          "text": [
            "MAE: 1137.176\n",
            "R2-score: 0.519\n"
          ]
        }
      ]
    },
    {
      "cell_type": "markdown",
      "source": [
        "We see that we have some improvement. However, we can try to also encode the building and street information in a similar way by taking the per-square-foot pricing at a building and street level into consideration as well in addition to the psf by district"
      ],
      "metadata": {
        "id": "mLdi6YUIBNm8"
      }
    },
    {
      "cell_type": "code",
      "source": [
        "building_psf_cummean = data.groupby(['building', 'year'])['psf'].mean().groupby('building').cumsum().reset_index()\n",
        "building_psf_cummean.rename(columns={'psf': 'building_mean_psf'}, inplace=True)\n",
        "data = data.merge(building_psf_cummean, on=['building', 'year'])\n",
        "\n",
        "street_psf_cummean = data.groupby(['street', 'year'])['psf'].mean().groupby('street').cumsum().reset_index()\n",
        "street_psf_cummean.rename(columns={'psf': 'street_mean_psf'}, inplace=True)\n",
        "data = data.merge(street_psf_cummean, on=['street', 'year'])"
      ],
      "metadata": {
        "id": "Qf1TmmoOBKb3"
      },
      "execution_count": 14,
      "outputs": []
    },
    {
      "cell_type": "code",
      "source": [
        "# we do a new split with the new data\n",
        "train_data = data.loc[data['year'] != 22]\n",
        "test_data = data.loc[data['year'] == 22]\n",
        "\n",
        "# extract the features and target variables\n",
        "X_train = train_data[['year', 'district_mean_psf', 'street_mean_psf', 'building_mean_psf', 'room', 'lower']]\n",
        "y_train = train_data['rent']\n",
        "X_test = test_data[['year', 'district_mean_psf', 'street_mean_psf', 'building_mean_psf', 'room', 'lower']]\n",
        "y_test = test_data['rent']\n",
        "\n",
        "# create a linear regression model and fit it to the training data\n",
        "model = LinearRegression()\n",
        "model.fit(X_train, y_train)\n",
        "\n",
        "# predict the target variable on the test data\n",
        "y_pred = model.predict(X_test)\n",
        "\n",
        "# evaluate the model on the test data and print the metrics\n",
        "mae = mean_absolute_error(y_test, y_pred)\n",
        "r2 = r2_score(y_test, y_pred)\n",
        "\n",
        "print(f\"MAE: {mae:.3f}\")\n",
        "print(f\"R2-score: {r2:.3f}\")"
      ],
      "metadata": {
        "colab": {
          "base_uri": "https://localhost:8080/"
        },
        "id": "2kKVPQJbB6aH",
        "outputId": "6f4ec9a1-72e3-4b33-8ee9-2f53dc257665"
      },
      "execution_count": 15,
      "outputs": [
        {
          "output_type": "stream",
          "name": "stdout",
          "text": [
            "MAE: 1155.579\n",
            "R2-score: 0.563\n"
          ]
        }
      ]
    },
    {
      "cell_type": "markdown",
      "source": [
        "We see that we lose MAE but the R2-score improves. We can try other regression techniques and see if a non-linear method can improve the model further as opposed to linear regression."
      ],
      "metadata": {
        "id": "BrxI0RqWDDIh"
      }
    },
    {
      "cell_type": "code",
      "source": [
        "from sklearn.linear_model import Lasso, Ridge, ElasticNet\n",
        "from sklearn import neighbors, tree\n",
        "from sklearn.ensemble import RandomForestRegressor\n",
        "\n",
        "# initialize different regression models\n",
        "models = {\n",
        "    'Lasso Regression': Lasso(),\n",
        "    'Ridge Regression': Ridge(),\n",
        "    'ElasticNet Regression': ElasticNet(),\n",
        "    'KNN': neighbors.KNeighborsRegressor(10),\n",
        "    'Decision Tree': tree.DecisionTreeRegressor(),\n",
        "    'Random Forest': RandomForestRegressor()\n",
        "}\n",
        "\n",
        "# train and evaluate each model\n",
        "for name, model in models.items():\n",
        "    model.fit(X_train, y_train)\n",
        "    y_pred = model.predict(X_test)\n",
        "    mae = mean_absolute_error(y_test, y_pred)\n",
        "    r2 = r2_score(y_test, y_pred)\n",
        "    print(f\"{name}: MAE = {mae:.2f}, R2 Score = {r2:.2f}\")"
      ],
      "metadata": {
        "colab": {
          "base_uri": "https://localhost:8080/"
        },
        "id": "IzAVFsnkDSIv",
        "outputId": "beb1cb95-405a-48b5-c936-c6d2ce2735b3"
      },
      "execution_count": 16,
      "outputs": [
        {
          "output_type": "stream",
          "name": "stdout",
          "text": [
            "Lasso Regression: MAE = 1153.67, R2 Score = 0.56\n",
            "Ridge Regression: MAE = 1155.58, R2 Score = 0.56\n",
            "ElasticNet Regression: MAE = 991.27, R2 Score = 0.61\n",
            "KNN: MAE = 860.66, R2 Score = 0.75\n",
            "Decision Tree: MAE = 1022.85, R2 Score = 0.52\n",
            "Random Forest: MAE = 839.41, R2 Score = 0.74\n"
          ]
        }
      ]
    },
    {
      "cell_type": "markdown",
      "source": [
        "We see that KNN and random forest techniques provide a better model, but there is still scope for improvement. External features may help improve this further but what we can do without that is to try polynomial features.\n",
        "\n",
        "We should also apply a scaling technique on the features which we can do using the standard scaling method since it matters for a subset of our selected approaches even if it doesn't matter to the tree based approaches."
      ],
      "metadata": {
        "id": "1qbK9mnBEXMk"
      }
    },
    {
      "cell_type": "code",
      "source": [
        "from sklearn.preprocessing import PolynomialFeatures, StandardScaler\n",
        "\n",
        "# add polynomial features\n",
        "poly = PolynomialFeatures(degree=2, include_bias=True)\n",
        "X_train_poly = poly.fit_transform(X_train)\n",
        "X_test_poly = poly.transform(X_test)\n",
        "\n",
        "# concatenate original and polynomial features\n",
        "X_train_all = pd.DataFrame(X_train_poly, columns=poly.get_feature_names_out(X_train.columns))\n",
        "X_test_all = pd.DataFrame(X_test_poly, columns=poly.get_feature_names_out(X_test.columns))\n",
        "\n",
        "scaler = StandardScaler()\n",
        "X_train_scaled = scaler.fit_transform(X_train_all)\n",
        "\n",
        "# assume 'X_test' is the test data\n",
        "X_test_scaled = scaler.transform(X_test_all)\n",
        "\n",
        "# train and evaluate each model\n",
        "for name, model in models.items():\n",
        "    model.fit(X_train_scaled, y_train)\n",
        "    y_pred = model.predict(X_test_scaled)\n",
        "    mae = mean_absolute_error(y_test, y_pred)\n",
        "    r2 = r2_score(y_test, y_pred)\n",
        "    print(f\"{name}: MAE = {mae:.2f}, R2 Score = {r2:.2f}\")"
      ],
      "metadata": {
        "colab": {
          "base_uri": "https://localhost:8080/"
        },
        "id": "lLM3Ob7ZET_D",
        "outputId": "adffbb08-f42e-493e-b7b3-3564f27c5f3b"
      },
      "execution_count": 18,
      "outputs": [
        {
          "output_type": "stream",
          "name": "stderr",
          "text": [
            "/usr/local/lib/python3.8/dist-packages/sklearn/linear_model/_coordinate_descent.py:647: ConvergenceWarning: Objective did not converge. You might want to increase the number of iterations, check the scale of the features or consider increasing regularisation. Duality gap: 5.121e+10, tolerance: 1.473e+08\n",
            "  model = cd_fast.enet_coordinate_descent(\n"
          ]
        },
        {
          "output_type": "stream",
          "name": "stdout",
          "text": [
            "Lasso Regression: MAE = 1128.53, R2 Score = 0.66\n",
            "Ridge Regression: MAE = 1035.58, R2 Score = 0.69\n",
            "ElasticNet Regression: MAE = 850.49, R2 Score = 0.72\n",
            "KNN: MAE = 913.82, R2 Score = 0.72\n",
            "Decision Tree: MAE = 1006.39, R2 Score = 0.45\n",
            "Random Forest: MAE = 821.04, R2 Score = 0.73\n"
          ]
        }
      ]
    },
    {
      "cell_type": "markdown",
      "source": [
        "We see that KNN without polynomial features remains our best model so far and perhaps we don't have enough data to be able to make use of the additionally generated features. Let's take a look at how our predicted rental prices differ from the actual rental prices."
      ],
      "metadata": {
        "id": "EDs8EuDlOyFc"
      }
    },
    {
      "cell_type": "code",
      "source": [
        "KNN_model = neighbors.KNeighborsRegressor(10)\n",
        "KNN_model.fit(X_train, y_train)\n",
        "y_pred = KNN_model.predict(X_test)"
      ],
      "metadata": {
        "id": "54p0WwYvE07P"
      },
      "execution_count": 21,
      "outputs": []
    },
    {
      "cell_type": "code",
      "source": [
        "plt.plot(y_test.values, label='Actual')\n",
        "plt.plot(y_pred, label='Predicted')\n",
        "plt.legend()\n",
        "plt.show()"
      ],
      "metadata": {
        "colab": {
          "base_uri": "https://localhost:8080/",
          "height": 268
        },
        "id": "vjbTYSSvPcgt",
        "outputId": "96f655b3-3820-4e8e-b88e-30dd2a9b22bc"
      },
      "execution_count": 22,
      "outputs": [
        {
          "output_type": "display_data",
          "data": {
            "text/plain": [
              "<Figure size 432x288 with 1 Axes>"
            ],
            "image/png": "[encoded data removed]"
          },
          "metadata": {}
        }
      ]
    },
    {
      "cell_type": "code",
      "source": [],
      "metadata": {
        "id": "VhpHWwSfZe_1"
      },
      "execution_count": null,
      "outputs": []
    },
    {
      "cell_type": "code",
      "source": [],
      "metadata": {
        "id": "SmpPgCBRZYaV"
      },
      "execution_count": null,
      "outputs": []
    }
  ]
}